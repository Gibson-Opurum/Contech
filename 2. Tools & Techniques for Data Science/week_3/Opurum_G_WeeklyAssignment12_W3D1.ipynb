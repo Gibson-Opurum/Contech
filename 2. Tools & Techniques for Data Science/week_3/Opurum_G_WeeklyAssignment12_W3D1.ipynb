{
 "cells": [
  {
   "attachments": {
    "contech-logo.jfif": {
     "image/jpeg": "[encoded data removed]"
    }
   },
   "cell_type": "markdown",
   "metadata": {},
   "source": [
    "![contech-logo.jfif](attachment:contech-logo.jfif)"
   ]
  },
  {
   "cell_type": "markdown",
   "metadata": {},
   "source": [
    "## Assignment 12 : Web Scraping Application\n",
    "\n",
    "I'm going to write a Python application that will scrape the web. Then I will use this application to scrape Google News.\n",
    "\n",
    "## Submitted By:\n",
    "### Gibson Opurum\n",
    "\n",
    "### Instructor: Sergiy Shevchenko\n",
    "### Date: March 6, 2022\n"
   ]
  },
  {
   "cell_type": "code",
   "execution_count": 1,
   "metadata": {},
   "outputs": [],
   "source": [
    "# Let's import the required libraries.\n",
    "from urllib.request import urlopen\n",
    "from bs4 import BeautifulSoup"
   ]
  },
  {
   "cell_type": "code",
   "execution_count": 2,
   "metadata": {},
   "outputs": [],
   "source": [
    "# Define a function called \"scrape\" that takes a \"web_address\" as an argument and prints output when called.\n",
    "def scrape(web_address):\n",
    "    data_store = urlopen(web_address)\n",
    "    web_page = data_store.read()\n",
    "    data_store.close()\n",
    "    soup_page = BeautifulSoup(web_page, \"xml\")\n",
    "    news_feed = soup_page.findAll(\"item\")\n",
    "\n",
    "    # Iterate through the Google news stream, printing the news title, url, and date of publication.\n",
    "    \n",
    "    for i in news_feed:\n",
    "        news_feed = set()\n",
    "        print(i.title.text), print(i.link.text), print(i.pubDate.text)"
   ]
  },
  {
   "cell_type": "code",
   "execution_count": 3,
   "metadata": {},
   "outputs": [
    {
     "name": "stdout",
     "output_type": "stream",
     "text": [
      "Russian bombardment intensifies, Putin says Ukraine's future in doubt and compares sanctions to declaration of war - World News - Castanet.net\n",
      "https://news.google.com/__i/rss/rd/articles/CBMinAFodHRwczovL3d3dy5jYXN0YW5ldC5uZXQvbmV3cy9Xb3JsZC8zNjE5NDMvUnVzc2lhbi1ib21iYXJkbWVudC1pbnRlbnNpZmllcy1QdXRpbi1zYXlzLVVrcmFpbmUtcy1mdXR1cmUtaW4tZG91YnQtYW5kLWNvbXBhcmVzLXNhbmN0aW9ucy10by1kZWNsYXJhdGlvbi1vZi13YXLSAQA?oc=5\n",
      "Sun, 06 Mar 2022 01:31:00 GMT\n",
      "Mastercard, Visa suspend operations in Russia after invasion - CP24 Toronto's Breaking News\n",
      "https://news.google.com/__i/rss/rd/articles/CBMiYGh0dHBzOi8vd3d3LmNwMjQuY29tL3dvcmxkL21hc3RlcmNhcmQtdmlzYS1zdXNwZW5kLW9wZXJhdGlvbnMtaW4tcnVzc2lhLWFmdGVyLWludmFzaW9uLTEuNTgwNzMyMdIBAA?oc=5\n",
      "Sat, 05 Mar 2022 23:09:00 GMT\n",
      "Canada warns against all travel to Russia: Leave while ‘means are still available’ - Global News\n",
      "https://news.google.com/__i/rss/rd/articles/CBMiQWh0dHBzOi8vZ2xvYmFsbmV3cy5jYS9uZXdzLzg2NjE0MTMvY2FuYWRhLXRyYXZlbC1hZHZpc29yeS1ydXNzaWEv0gEA?oc=5\n",
      "Sat, 05 Mar 2022 22:59:44 GMT\n",
      "Two new COVID-19 deaths in Ottawa Saturday, hospitalizations up slightly - CTV News Ottawa\n",
      "https://news.google.com/__i/rss/rd/articles/CBMia2h0dHBzOi8vb3R0YXdhLmN0dm5ld3MuY2EvdHdvLW5ldy1jb3ZpZC0xOS1kZWF0aHMtaW4tb3R0YXdhLXNhdHVyZGF5LWhvc3BpdGFsaXphdGlvbnMtdXAtc2xpZ2h0bHktMS41ODA3MTA00gEA?oc=5\n",
      "Sat, 05 Mar 2022 17:19:11 GMT\n",
      "North Korea fires suspected ballistic missile into sea - CP24 Toronto's Breaking News\n",
      "https://news.google.com/__i/rss/rd/articles/CBMiW2h0dHBzOi8vd3d3LmNwMjQuY29tL3dvcmxkL25vcnRoLWtvcmVhLWZpcmVzLXN1c3BlY3RlZC1iYWxsaXN0aWMtbWlzc2lsZS1pbnRvLXNlYS0xLjU4MDY2NTfSAQA?oc=5\n",
      "Sat, 05 Mar 2022 00:40:37 GMT\n",
      "Putin likens sanctions to 'declaring war,' warns Ukrainian statehood in jeopardy - CBC.ca\n",
      "https://news.google.com/__i/rss/rd/articles/CBMiOmh0dHBzOi8vd3d3LmNiYy5jYS9uZXdzL3dvcmxkL3J1c3NpYS11a3JhaW5lLXdhci0xLjYzNzQzOTDSASBodHRwczovL3d3dy5jYmMuY2EvYW1wLzEuNjM3NDM5MA?oc=5\n",
      "Sat, 05 Mar 2022 20:49:00 GMT\n",
      "Two weeks after convoy occupation, opposing rallies take to Ottawa's downtown - CBC.ca\n",
      "https://news.google.com/__i/rss/rd/articles/CBMieGh0dHBzOi8vd3d3LmNiYy5jYS9uZXdzL2NhbmFkYS9vdHRhd2Evb3Bwb3NpbmctcmFsbGllcy1wcm90ZXN0cy1vdHRhd2EtZG93bnRvd24tY292aWQtMTktY29udm95LWFjY291bnRhYmlsaXR5LTEuNjM3NDQ2MdIBIGh0dHBzOi8vd3d3LmNiYy5jYS9hbXAvMS42Mzc0NDYx?oc=5\n",
      "Sun, 06 Mar 2022 00:09:00 GMT\n",
      "Freezing rain prompts City to declare weather event - SooToday\n",
      "https://news.google.com/__i/rss/rd/articles/CBMiX2h0dHBzOi8vd3d3LnNvb3RvZGF5LmNvbS9sb2NhbC1uZXdzL2ZyZWV6aW5nLXJhaW4tcHJvbXB0cy1jaXR5LXRvLWRlY2xhcmUtd2VhdGhlci1ldmVudC01MTMwMjY50gEA?oc=5\n",
      "Sat, 05 Mar 2022 23:17:42 GMT\n",
      "PEI gas, diesel, furnace oil prices climb again with unscheduled March 5 adjustment - Saltwire\n",
      "https://news.google.com/__i/rss/rd/articles/CBMiigFodHRwczovL3d3dy5zYWx0d2lyZS5jb20vYXRsYW50aWMtY2FuYWRhL25ld3MvcGVpLWdhcy1kaWVzZWwtZnVybmFjZS1vaWwtcHJpY2VzLWNsaW1iLWFnYWluLXdpdGgtdW5zY2hlZHVsZWQtbWFyY2gtNS1hZGp1c3RtZW50LTEwMDcwMjA0My_SAQA?oc=5\n",
      "Sat, 05 Mar 2022 04:14:08 GMT\n",
      "'Welcome back Toronto:' City confirms return of major summer festivals - CP24 Toronto's Breaking News\n",
      "https://news.google.com/__i/rss/rd/articles/CBMiZ2h0dHBzOi8vd3d3LmNwMjQuY29tL25ld3Mvd2VsY29tZS1iYWNrLXRvcm9udG8tY2l0eS1jb25maXJtcy1yZXR1cm4tb2YtbWFqb3Itc3VtbWVyLWZlc3RpdmFscy0xLjU4MDU2MTLSAQA?oc=5\n",
      "Fri, 04 Mar 2022 15:15:31 GMT\n",
      "Russia invades Ukraine: Live updates - CNN\n",
      "https://news.google.com/__i/rss/rd/articles/CBMiamh0dHBzOi8vd3d3LmNubi5jb20vZXVyb3BlL2xpdmUtbmV3cy91a3JhaW5lLXJ1c3NpYS1wdXRpbi1uZXdzLTAzLTA2LTIyL2hfOTNhMDQ4NGE3MWQyY2IwZWQ0MmQyZjk3MTk2OWQ3ZDHSAVZodHRwczovL2FtcC5jbm4uY29tL2Nubi9ldXJvcGUvbGl2ZS1uZXdzL3VrcmFpbmUtcnVzc2lhLXB1dGluLW5ld3MtMDMtMDYtMjIvaW5kZXguaHRtbA?oc=5\n",
      "Sun, 06 Mar 2022 06:59:00 GMT\n",
      "World narrowly averted 'a nuclear catastrophe' in Russian assault on Ukraine plant, UN hears - National Post\n",
      "https://news.google.com/__i/rss/rd/articles/CBMid2h0dHBzOi8vbmF0aW9uYWxwb3N0LmNvbS9uZXdzL3dvcmxkL3Utcy1lbnZveS10by11LW4tc2F5cy13b3JsZC1uYXJyb3dseS1hdmVydGVkLW51Y2xlYXItY2F0YXN0cm9waGUtaW4tcnVzc2lhbi1hc3NhdWx00gGlAWh0dHBzOi8vbmF0aW9uYWxwb3N0LmNvbS9uZXdzL3dvcmxkL3Utcy1lbnZveS10by11LW4tc2F5cy13b3JsZC1uYXJyb3dseS1hdmVydGVkLW51Y2xlYXItY2F0YXN0cm9waGUtaW4tcnVzc2lhbi1hc3NhdWx0L3djbS9lYmJlMzk1OC0zMTZkLTQ0NjktYjg2MC1kNzUyNWJiYTcwYjIvYW1wLw?oc=5\n",
      "Fri, 04 Mar 2022 19:30:00 GMT\n",
      "Canada may finally have the political will to strengthen our depleted defence capacity - The Globe and Mail\n",
      "https://news.google.com/__i/rss/rd/articles/CBMid2h0dHBzOi8vd3d3LnRoZWdsb2JlYW5kbWFpbC5jb20vcG9saXRpY3MvYXJ0aWNsZS1jYW5hZGEtbWF5LWZpbmFsbHktaGF2ZS10aGUtcG9saXRpY2FsLXdpbGwtdG8tc3RyZW5ndGhlbi1vdXItZGVwbGV0ZWQv0gEA?oc=5\n",
      "Sat, 05 Mar 2022 10:00:00 GMT\n",
      "Zelenskyy criticizes NATO for refusing to impose no-fly zone over Ukraine - Global News\n",
      "https://news.google.com/__i/rss/rd/articles/CBMiWWh0dHBzOi8vZ2xvYmFsbmV3cy5jYS9uZXdzLzg2NTk5NjUvdWtyYWluZS1wcmVzaWRlbnQtdm9sb2R5bXlyLXplbGVuc2t5eS1uYXRvLXJ1c3NpYS13YXIv0gFdaHR0cHM6Ly9nbG9iYWxuZXdzLmNhL25ld3MvODY1OTk2NS91a3JhaW5lLXByZXNpZGVudC12b2xvZHlteXItemVsZW5za3l5LW5hdG8tcnVzc2lhLXdhci9hbXAv?oc=5\n",
      "Fri, 04 Mar 2022 23:29:04 GMT\n",
      "U.S. gains 678,000 jobs in February and unemployment drops to 3.8% despite labor shortage - MarketWatch\n",
      "https://news.google.com/__i/rss/rd/articles/CBMiVGh0dHBzOi8vd3d3Lm1hcmtldHdhdGNoLmNvbS9zdG9yeS9jb21pbmctdXAtdS1zLWpvYnMtcmVwb3J0LWZvci1mZWJydWFyeS0xMTY0NjM5OTAxNNIBAA?oc=5\n",
      "Fri, 04 Mar 2022 15:12:00 GMT\n",
      "What the Bank of Canada's rate Increase means for you - Mortgage Matters - Castanet.net\n",
      "https://news.google.com/__i/rss/rd/articles/CBMia2h0dHBzOi8vd3d3LmNhc3RhbmV0Lm5ldC9uZXdzL01vcnRnYWdlLU1hdHRlcnMvMzYxNzUyL1doYXQtdGhlLUJhbmstb2YtQ2FuYWRhLXMtcmF0ZS1JbmNyZWFzZS1tZWFucy1mb3IteW910gEA?oc=5\n",
      "Sat, 05 Mar 2022 19:00:00 GMT\n",
      "One Of The Wildest Weeks In Modern History For Oil Markets - OilPrice.com\n",
      "https://news.google.com/__i/rss/rd/articles/CBMiamh0dHBzOi8vb2lscHJpY2UuY29tL0VuZXJneS9FbmVyZ3ktR2VuZXJhbC9PbmUtT2YtVGhlLVdpbGRlc3QtV2Vla3MtSW4tTW9kZXJuLUhpc3RvcnktRm9yLU9pbC1NYXJrZXRzLmh0bWzSAQA?oc=5\n",
      "Fri, 04 Mar 2022 20:00:00 GMT\n",
      "House committee says Rogers-Shaw deal should not proceed - BNN\n",
      "https://news.google.com/__i/rss/rd/articles/CBMiXmh0dHBzOi8vd3d3LmJubmJsb29tYmVyZy5jYS9ob3VzZS1jb21taXR0ZWUtc2F5cy1yb2dlcnMtc2hhdy1kZWFsLXNob3VsZC1ub3QtcHJvY2VlZC0xLjE3MzI4MDXSAQA?oc=5\n",
      "Fri, 04 Mar 2022 22:55:10 GMT\n",
      "Activision Blizzard and Epic Games halt sales of games in Russia - The Verge\n",
      "https://news.google.com/__i/rss/rd/articles/CBMia2h0dHBzOi8vd3d3LnRoZXZlcmdlLmNvbS8yMDIyLzMvNS8yMjk2MzE5NS9hY3RpdmlzaW9uLWJsaXp6YXJkLWhhbHRzLW5ldy1nYW1lLXNhbGVzLXJ1c3NpYS11a3JhaW5lLWludmFzaW9u0gEA?oc=5\n",
      "Sat, 05 Mar 2022 21:35:10 GMT\n",
      "Where to buy a replacement S Pen for the Samsung Galaxy S22 Ultra? - XDA Developers\n",
      "https://news.google.com/__i/rss/rd/articles/CBMiSmh0dHBzOi8vd3d3LnhkYS1kZXZlbG9wZXJzLmNvbS9zYW1zdW5nLWdhbGF4eS1zMjItdWx0cmEtcy1wZW4tcmVwbGFjZW1lbnQv0gFOaHR0cHM6Ly93d3cueGRhLWRldmVsb3BlcnMuY29tL3NhbXN1bmctZ2FsYXh5LXMyMi11bHRyYS1zLXBlbi1yZXBsYWNlbWVudC9hbXAv?oc=5\n",
      "Sat, 05 Mar 2022 20:00:00 GMT\n",
      "Top Stories: 'Peek Performance' Apple Event Preview - MacRumors\n",
      "https://news.google.com/__i/rss/rd/articles/CBMiUGh0dHBzOi8vd3d3Lm1hY3J1bW9ycy5jb20vMjAyMi8wMy8wNS90b3Atc3Rvcmllcy1hcHBsZS1ldmVudC1tYXJjaC0yMDIyLXByZXZpZXcv0gEA?oc=5\n",
      "Sat, 05 Mar 2022 14:00:00 GMT\n",
      "'Elden Ring' PC update fixes Steam cloud save issue - Yahoo Movies Canada\n",
      "https://news.google.com/__i/rss/rd/articles/CBMiYGh0dHBzOi8vY2EubW92aWVzLnlhaG9vLmNvbS9lbGRlbi1yaW5nLXVwZGF0ZS1mb3ItcGMtZml4ZXMtc3RlYW0tY2xvdWQtc2F2ZS1pc3N1ZS0xNjI2MDA0NTkuaHRtbNIBaGh0dHBzOi8vY2EubW92aWVzLnlhaG9vLmNvbS9hbXBodG1sL2VsZGVuLXJpbmctdXBkYXRlLWZvci1wYy1maXhlcy1zdGVhbS1jbG91ZC1zYXZlLWlzc3VlLTE2MjYwMDQ1OS5odG1s?oc=5\n",
      "Sat, 05 Mar 2022 16:26:00 GMT\n",
      "Your daily horoscope: March 5 - The Globe and Mail\n",
      "https://news.google.com/__i/rss/rd/articles/CBMiV2h0dHBzOi8vd3d3LnRoZWdsb2JlYW5kbWFpbC5jb20vbGlmZS9ob3Jvc2NvcGVzL2FydGljbGUteW91ci1kYWlseS1ob3Jvc2NvcGUtbWFyY2gtNS00L9IBAA?oc=5\n",
      "Sat, 05 Mar 2022 05:00:00 GMT\n",
      "UPDATE: The Batman earns $57 million on its Friday launch - JoBlo.com\n",
      "https://news.google.com/__i/rss/rd/articles/CBMiVmh0dHBzOi8vd3d3LmpvYmxvLmNvbS90aGUtYmF0bWFuLWVhcm5zLW1pZ2h0eS0yMS02LW1pbGxpb24taW4tdGh1cnNkYXktbmlnaHQtcHJldmlld3Mv0gFaaHR0cHM6Ly93d3cuam9ibG8uY29tL3RoZS1iYXRtYW4tZWFybnMtbWlnaHR5LTIxLTYtbWlsbGlvbi1pbi10aHVyc2RheS1uaWdodC1wcmV2aWV3cy9hbXAv?oc=5\n",
      "Sat, 05 Mar 2022 20:22:00 GMT\n",
      "'The Batman' DOES Have an End Credits Scene, But It's Hidden on a Secret Website – Details Revealed! - Just Jared\n",
      "https://news.google.com/__i/rss/rd/articles/CBMigwFodHRwczovL3d3dy5qdXN0amFyZWQuY29tLzIwMjIvMDMvMDUvdGhlLWJhdG1hbi1kb2VzLWhhdmUtYW4tZW5kLWNyZWRpdHMtc2NlbmUtYnV0LWl0cy1oaWRkZW4tb24tYS1zZWNyZXQtd2Vic2l0ZS1kZXRhaWxzLXJldmVhbGVkL9IBAA?oc=5\n",
      "Sat, 05 Mar 2022 12:38:30 GMT\n",
      "New to Netflix in March 2022: The Adam Project, Bridgerton Season 2, and More - IGN - IGN\n",
      "https://news.google.com/__i/rss/rd/articles/CBMiUGh0dHBzOi8vd3d3Lmlnbi5jb20vYXJ0aWNsZXMvbmV3LXRvLW5ldGZsaXgtbWFyY2gtMjAyMi1tb3ZpZXMtdHYtc2hvd3Mtb3JpZ2luYWxz0gEA?oc=5\n",
      "Fri, 04 Mar 2022 08:00:00 GMT\n",
      "Canucks' commitment and resiliency shine in comeback win over Maple Leafs - Sportsnet.ca\n",
      "https://news.google.com/__i/rss/rd/articles/CBMib2h0dHBzOi8vd3d3LnNwb3J0c25ldC5jYS9uaGwvYXJ0aWNsZS9jYW51Y2tzLWNvbW1pdG1lbnQtYW5kLXJlc2lsaWVuY3ktc2hpbmVzLWluLWNvbWViYWNrLXdpbi1vdmVyLW1hcGxlLWxlYWZzL9IBAA?oc=5\n",
      "Sun, 06 Mar 2022 05:59:00 GMT\n",
      "Game Recap 56: Edmonton Oilers vs Montreal Canadiens - Oilers Nation\n",
      "https://news.google.com/__i/rss/rd/articles/CBMiWmh0dHBzOi8vb2lsZXJzbmF0aW9uLmNvbS8yMDIyLzAzLzA1L2dhbWUtcmVjYXAtNTYtMC1lZG1vbnRvbi1vaWxlcnMtdnMtbW9udHJlYWwtY2FuYWRpZW5zL9IBAA?oc=5\n",
      "Sun, 06 Mar 2022 03:00:53 GMT\n",
      "Gaudreau scores OT winner as Flames beat Avalanche in thriller - Sportsnet.ca\n",
      "https://news.google.com/__i/rss/rd/articles/CBMiZGh0dHBzOi8vd3d3LnNwb3J0c25ldC5jYS9uaGwvYXJ0aWNsZS9nYXVkcmVhdS1zY29yZXMtb3Qtd2lubmVyLWFzLWZsYW1lcy1iZWF0LWF2YWxhbmNoZS1pbi10aHJpbGxlci_SAQA?oc=5\n",
      "Sun, 06 Mar 2022 06:21:00 GMT\n",
      "'Different motivation' fuels Moulding ahead of Saturday night showdown on TSN - TSN\n",
      "https://news.google.com/__i/rss/rd/articles/CBMiaGh0dHBzOi8vd3d3LnRzbi5jYS9kaWZmZXJlbnQtbW90aXZhdGlvbi1mdWVscy1tb3VsZGluZy1haGVhZC1vZi1zYXR1cmRheS1uaWdodC1zaG93ZG93bi1vbi10c24tMS4xNzY2NDY00gEA?oc=5\n",
      "Sat, 05 Mar 2022 03:12:36 GMT\n",
      "Did an old rocket really hit the moon? - CTV News\n",
      "https://news.google.com/__i/rss/rd/articles/CBMigAFodHRwczovL3d3dy5jdHZuZXdzLmNhL3NjaS10ZWNoL3NwYWNlLW15c3Rlcnktc2NpZW50aXN0cy1iZWxpZXZlLW9sZC1yb2NrZXQtaGFyZHdhcmUtaGl0LXRoZS1tb29uLWJ1dC10aGVyZS1zLW5vLXByb29mLTEuNTgwNzExNtIBAA?oc=5\n",
      "Sat, 05 Mar 2022 17:31:06 GMT\n",
      "Did rapid spin delay 2017 collapse of neutron stars into black hole? - Phys.org\n",
      "https://news.google.com/__i/rss/rd/articles/CBMiRWh0dHBzOi8vcGh5cy5vcmcvbmV3cy8yMDIyLTAzLXJhcGlkLWNvbGxhcHNlLW5ldXRyb24tc3RhcnMtYmxhY2suaHRtbNIBAA?oc=5\n",
      "Sat, 05 Mar 2022 15:10:01 GMT\n",
      "How engineers are getting James Webb’s NIRSpec instrument ready for science - Digital Trends\n",
      "https://news.google.com/__i/rss/rd/articles/CBMiSWh0dHBzOi8vd3d3LmRpZ2l0YWx0cmVuZHMuY29tL25ld3Mvd2ViYi1uaXJzcGVjLWluc3RydW1lbnQtY29tbWlzc2lvbmluZy_SAQA?oc=5\n",
      "Sat, 05 Mar 2022 14:09:24 GMT\n",
      "Scientists Watch Memories Form in Living Brain - Futurism\n",
      "https://news.google.com/__i/rss/rd/articles/CBMiMWh0dHBzOi8vZnV0dXJpc20uY29tL3RoZS1ieXRlL21lbW9yaWVzLWZvcm0tYnJhaW7SASxodHRwczovL2Z1dHVyaXNtLmNvbS9tZW1vcmllcy1mb3JtLWJyYWluL2FtcA?oc=5\n",
      "Fri, 04 Mar 2022 20:43:21 GMT\n",
      "Public health warns of increased risk of drug poisoning - The Kingston Whig-Standard\n",
      "https://news.google.com/__i/rss/rd/articles/CBMiX2h0dHBzOi8vd3d3LnRoZXdoaWcuY29tL25ld3MvbG9jYWwtbmV3cy9wdWJsaWMtaGVhbHRoLXdhcm5zLW9mLWluY3JlYXNlZC1yaXNrLW9mLWRydWctcG9pc29uaW5n0gEA?oc=5\n",
      "Fri, 04 Mar 2022 18:40:33 GMT\n",
      "Healthy eating tips for women | Food | timesnews.net - Kingsport Times News\n",
      "https://news.google.com/__i/rss/rd/articles/CBMidWh0dHBzOi8vd3d3LnRpbWVzbmV3cy5uZXQvbGl2aW5nL2Zvb2QvaGVhbHRoeS1lYXRpbmctdGlwcy1mb3Itd29tZW4vYXJ0aWNsZV8wMGVlODY3OC05OGE5LTExZWMtODM0Zi0yYjk4MzRhOWY4NDguaHRtbNIBAA?oc=5\n",
      "Sat, 05 Mar 2022 19:30:00 GMT\n",
      "BR doctors, community members raising awareness for kidney disease - WAFB\n",
      "https://news.google.com/__i/rss/rd/articles/CBMiXmh0dHBzOi8vd3d3LndhZmIuY29tLzIwMjIvMDMvMDUvYnItZG9jdG9ycy1jb21tdW5pdHktbWVtYmVycy1yYWlzaW5nLWF3YXJlbmVzcy1raWRuZXktZGlzZWFzZS_SAQA?oc=5\n",
      "Sat, 05 Mar 2022 23:16:37 GMT\n",
      "Virus Experts Say Be Prepared for This Next — Eat This Not That - Eat This, Not That\n",
      "https://news.google.com/__i/rss/rd/articles/CBMiS2h0dHBzOi8vd3d3LmVhdHRoaXMuY29tL25ld3MtdmlydXMtZXhwZXJ0cy1iZS1wcmVwYXJlZC1mb3ItdGhpcy1uZXh0LWNvdmlkL9IBAA?oc=5\n",
      "Sat, 05 Mar 2022 17:31:29 GMT\n"
     ]
    }
   ],
   "source": [
    "# Call the function, pass the \"web_address\" as an argument, and see the news feed printed to the terminal.\n",
    "scrape(\"http://news.google.com/news/rss\")"
   ]
  },
  {
   "cell_type": "markdown",
   "metadata": {},
   "source": [
    "### Conclusion\n",
    "\n",
    "As you can see, this application was able to print recent Google news stories onto the console, complete with titles, URLs, and publication dates. As a result, you can now use this data for whatever analysis interests you, such as natural language processing."
   ]
  },
  {
   "cell_type": "code",
   "execution_count": null,
   "metadata": {},
   "outputs": [],
   "source": []
  }
 ],
 "metadata": {
  "interpreter": {
   "hash": "3df5ee7d6d5a1dee270761744ebbf506800f53383abf7acfa9bba0bcb23d981a"
  },
  "kernelspec": {
   "display_name": "Python 3 (ipykernel)",
   "language": "python",
   "name": "python3"
  },
  "language_info": {
   "codemirror_mode": {
    "name": "ipython",
    "version": 3
   },
   "file_extension": ".py",
   "mimetype": "text/x-python",
   "name": "python",
   "nbconvert_exporter": "python",
   "pygments_lexer": "ipython3",
   "version": "3.8.8"
  }
 },
 "nbformat": 4,
 "nbformat_minor": 2
}
